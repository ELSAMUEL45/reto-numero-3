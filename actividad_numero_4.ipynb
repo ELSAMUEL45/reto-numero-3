{
  "nbformat": 4,
  "nbformat_minor": 0,
  "metadata": {
    "colab": {
      "provenance": [],
      "name": "actividad_numero_4.ipynb",
      "authorship_tag": "ABX9TyOvjgtE0KC4F4zwXZQYi+/j",
      "include_colab_link": true
    },
    "kernelspec": {
      "name": "python3",
      "display_name": "Python 3"
    },
    "language_info": {
      "name": "python"
    }
  },
  "cells": [
    {
      "cell_type": "markdown",
      "metadata": {
        "id": "view-in-github",
        "colab_type": "text"
      },
      "source": [
        "<a href=\"https://colab.research.google.com/github/ELSAMUEL45/reto-numero-3/blob/main/actividad_numero_4.ipynb\" target=\"_parent\"><img src=\"https://colab.research.google.com/assets/colab-badge.svg\" alt=\"Open In Colab\"/></a>"
      ]
    },
    {
      "cell_type": "markdown",
      "source": [
        "#Dado un número entero, determinar si ese número corresponde al código ASCII de una vocal minúscula."
      ],
      "metadata": {
        "id": "NkGfwrGakqUf"
      }
    },
    {
      "cell_type": "code",
      "execution_count": null,
      "metadata": {
        "colab": {
          "base_uri": "https://localhost:8080/"
        },
        "id": "7LLxXCeEfLKv",
        "outputId": "7f285057-6897-4386-bb1b-0e68dc9b2fb8"
      },
      "outputs": [
        {
          "output_type": "stream",
          "name": "stdout",
          "text": [
            "Ingrese un número ENTERO: 45\n",
            "el numero 45 no es una vocal minuscula en ASCCI\n",
            "45\n"
          ]
        }
      ],
      "source": [
        "n = int(input(\"Ingrese un número ENTERO: \"))\n",
        "\n",
        "# aca entonces toca poner cuales son los numeros estos del ascci\n",
        "ascii_vocales = [97, 101, 105, 111, 117]\n",
        "\n",
        "# Como ya estan definidos miramos si el número está en la lista\n",
        "if n in ascii_vocales:\n",
        "    print(\"El número \" + str(n) + \" es una vocal minúscula en ASCII\")\n",
        "else:\n",
        "    print(\"el numero \" + str(n) + \" no es una vocal minuscula en ASCCI\")\n",
        "\n",
        "\n",
        "print(n)\n"
      ]
    },
    {
      "cell_type": "markdown",
      "source": [],
      "metadata": {
        "id": "G4Dk6a2vk0dI"
      }
    },
    {
      "cell_type": "markdown",
      "source": [
        "#Dada una cadena de longitud 1, determine si el código ASCII de primera letra de la cadena es par o no"
      ],
      "metadata": {
        "id": "gnAL7xXRk0ek"
      }
    },
    {
      "cell_type": "code",
      "source": [
        "# Solicitar al usuario que ingrese una sola letra o símbolo\n",
        "cadena = input(\"Ingrese UNA SOLA LETRA O SIMBOLO! (una letra o símbolo): \")\n",
        "\n",
        "# Ahora verificar que lo que ingresaron sea de longitud 1\n",
        "if len(cadena) == 1:\n",
        "    # Tomamos el primer (y único) carácter de la cadena ingresada(le pregunté a chatgpt como hacerlo)\n",
        "    caracter = cadena[0]\n",
        "\n",
        "    # Para obtener el código ASCII, usamos la función ord(también le pregunté a chatgpt como hacerlo)\n",
        "    codigo_ascii = ord(caracter)\n",
        "\n",
        "    # Verificamos si el código ASCII es par o impar usando el operador %\n",
        "    if codigo_ascii % 2 == 0:  # Si el código ASCII es divisible entre 2 (par)\n",
        "        print(\"El código ASCII del carácter '\" + caracter + \"' es par\")\n",
        "    else:\n",
        "        print(\"El código ASCII del carácter '\" + caracter + \"' es impar\")\n",
        "\n",
        "    # Mostrar el valor ASCII por si lo necesitamos\n",
        "    print(\"El código ASCII es: \" + str(codigo_ascii))\n",
        "else:\n",
        "    print(\"¡Error! Debes ingresar una cadena de solo un carácter\")\n",
        "\n"
      ],
      "metadata": {
        "colab": {
          "base_uri": "https://localhost:8080/"
        },
        "id": "2vrVH5lylGK1",
        "outputId": "dce4127c-137e-4c06-ccbb-e90a47570cfb"
      },
      "execution_count": null,
      "outputs": [
        {
          "output_type": "stream",
          "name": "stdout",
          "text": [
            "Ingrese UNA SOLA LETRA O SIMBOLO! (una letra o símbolo): 4\n",
            "El código ASCII del carácter '4' es par.\n",
            "El código ASCII es: 52\n"
          ]
        }
      ]
    },
    {
      "cell_type": "markdown",
      "source": [
        "#Dado un carácter, construya un programa en Python para determinar si el carácter es un dígito o no"
      ],
      "metadata": {
        "id": "iplwwqXpk89K"
      }
    },
    {
      "cell_type": "code",
      "source": [
        "caracter = input(\"Ingrese un carácter: \")\n",
        "numeros = \"0123456789\"\n",
        "if caracter in numeros:\n",
        "    print(\"El carácter '\" + caracter + \"' es un dígito\")\n",
        "else:\n",
        "    print(\"El carácter '\" + caracter + \"' no es un dígito\")\n"
      ],
      "metadata": {
        "colab": {
          "base_uri": "https://localhost:8080/"
        },
        "id": "KCdEIaxulGrf",
        "outputId": "8b9a6df2-13c8-4d66-9070-33a6736bcc60"
      },
      "execution_count": null,
      "outputs": [
        {
          "output_type": "stream",
          "name": "stdout",
          "text": [
            "Ingrese un carácter: h\n",
            "El carácter 'h' no es un dígito\n"
          ]
        }
      ]
    },
    {
      "cell_type": "markdown",
      "source": [
        "#Realice un programa que lea dos números reales y determine si el primero es múltiplo del segundo"
      ],
      "metadata": {
        "id": "hEhrucXJlCTd"
      }
    },
    {
      "cell_type": "code",
      "source": [
        "a = float(input(\"Ingrese el primer número: \"))\n",
        "b = float(input(\"Ingrese el segundo número: \"))\n",
        " # Verificar si el primer número es múltiplo del segundo\n",
        "if a % b == 0:\n",
        "    print(str(a) + \" es múltiplo de \" + str(b))\n",
        "elif b % a == 0:\n",
        "    print(str(b) + \" es múltiplo de \" + str(a))\n",
        "else:\n",
        "    print(str(a) + \" no es múltiplo de \" + str(b) + \" y \" + str(b) + \" no es múltiplo de \" + str(a))\n",
        "\n"
      ],
      "metadata": {
        "colab": {
          "base_uri": "https://localhost:8080/"
        },
        "id": "WfZjOUBSru9U",
        "outputId": "cc58891e-640f-4259-b3f5-83ddca3dafee"
      },
      "execution_count": null,
      "outputs": [
        {
          "output_type": "stream",
          "name": "stdout",
          "text": [
            "Ingrese el primer número: 79\n",
            "Ingrese el segundo número: 2\n",
            "79.0 no es múltiplo de 2.0 y 2.0 no es múltiplo de 79.0\n"
          ]
        }
      ]
    },
    {
      "cell_type": "markdown",
      "source": [
        "#Dado un número real x, construya un programa que permita determinar si el número es positivo, negativo o cero"
      ],
      "metadata": {
        "id": "A4XDLiB1lN_I"
      }
    },
    {
      "cell_type": "code",
      "source": [
        "a=float(input(\"ingrese un numero \"))\n",
        "if a<0:\n",
        "    print(\"el numero \" + str(a) + \" es negativo\")\n",
        "elif a>0:\n",
        "    print(\"el numero \" + str(a) + \" es positivo\")\n",
        "else:\n",
        "    print(\"el numero \" + str(a) + \" es neutro\")"
      ],
      "metadata": {
        "colab": {
          "base_uri": "https://localhost:8080/"
        },
        "id": "prkupZsHvZOg",
        "outputId": "cfb47d5e-6a8c-4fbf-b6d5-609af9bc05b2"
      },
      "execution_count": null,
      "outputs": [
        {
          "output_type": "stream",
          "name": "stdout",
          "text": [
            "ingrese un numero -3\n",
            "el numero -3.0 es negativo\n"
          ]
        }
      ]
    },
    {
      "cell_type": "markdown",
      "source": [
        "#Dado el centro y el radio de un círculo, determinar si un punto de R2 pertenece o no al interior del círculo"
      ],
      "metadata": {
        "id": "lq9pWsYFlc3R"
      }
    },
    {
      "cell_type": "code",
      "source": [
        "x = float(input(\"Ingrese la coordenada x del centro del círculo: \"))\n",
        "y = float(input(\"Ingrese la coordenada y del centro del círculo: \"))\n",
        "r = float(input(\"Ingrese el radio del círculo: \"))\n",
        "x1 = float(input(\"Ingrese la coordenada x del punto: \"))\n",
        "y1 = float(input(\"Ingrese la coordenada y del punto: \"))\n",
        "if (x1-x)**2 + (y1-y)**2 <= r**2:\n",
        "    print(\"El punto (\" + str(x1) + \", \" + str(y1) + \") pertenece al interior del círculo\")\n",
        "else:\n",
        "    print(\"El punto (\" + str(x1) + \", \" + str(y1) + \") no pertenece al interior del círculo\")\n"
      ],
      "metadata": {
        "colab": {
          "base_uri": "https://localhost:8080/"
        },
        "id": "E298BwjJleGl",
        "outputId": "d7d22e97-4d6d-43c5-8c55-78d095707185"
      },
      "execution_count": null,
      "outputs": [
        {
          "output_type": "stream",
          "name": "stdout",
          "text": [
            "Ingrese la coordenada x del centro del círculo: 0\n",
            "Ingrese la coordenada y del centro del círculo: 0\n",
            "Ingrese el radio del círculo: 6\n",
            "Ingrese la coordenada x del punto: 7\n",
            "Ingrese la coordenada y del punto: 8\n",
            "El punto (7.0, 8.0) no pertenece al interior del círculo\n"
          ]
        }
      ]
    },
    {
      "cell_type": "markdown",
      "source": [
        "#Dadas tres longitudes positivas, determinar si con esas longitudes se puede construir un triángulo"
      ],
      "metadata": {
        "id": "y_D7lc7Mm4yh"
      }
    },
    {
      "cell_type": "code",
      "source": [
        "a = float(input(\"Ingrese la primera longitud: \"))\n",
        "b = float(input(\"Ingrese la segunda longitud: \"))\n",
        "c = float(input(\"Ingrese la tercera longitud: \"))\n",
        "if a +b > c and a + c > b and b + c > a:\n",
        "  print(\"es posible construir un triangulo\")\n",
        "else:\n",
        "    print(\"no se puede hacer un triangulo\")"
      ],
      "metadata": {
        "colab": {
          "base_uri": "https://localhost:8080/"
        },
        "id": "6QbPKEdgm6KW",
        "outputId": "ddb94088-c5b8-4058-c759-fa85aed79486"
      },
      "execution_count": null,
      "outputs": [
        {
          "output_type": "stream",
          "name": "stdout",
          "text": [
            "Ingrese la primera longitud: 12\n",
            "Ingrese la segunda longitud: 43\n",
            "Ingrese la tercera longitud: 52\n",
            "es posible construir un triangulo\n"
          ]
        }
      ]
    },
    {
      "cell_type": "markdown",
      "source": [],
      "metadata": {
        "id": "4mrn-9Nfn486"
      }
    },
    {
      "cell_type": "code",
      "source": [
        "pais: str\n",
        "pais = input(\"Ingrese el nombre de un país de América en minúsculas: \")\n",
        "\n",
        "match pais:\n",
        "    case \"costa rica\":\n",
        "        print(\"La capital de Costa Rica es San José\")\n",
        "    case \"jamaica\":\n",
        "        print(\"La capital de Jamaica es Kingston\")\n",
        "    case \"guatemala\":\n",
        "        print(\"La capital de Guatemala es Ciudad de Guatemala\")\n",
        "    case \"cuba\":\n",
        "        print(\"La capital de Cuba es La Habana\")\n",
        "    case \"mexico\":\n",
        "        print(\"La capital de México es Ciudad de México\")\n",
        "    case \"antigua y barbuda\":\n",
        "        print(\"La capital de Antigua y Barbuda es Saint John's\")\n",
        "    case \"venezuela\":\n",
        "        print(\"La capital de Venezuela es Caracas\")\n",
        "    case \"barbados\":\n",
        "        print(\"La capital de Barbados es Bridgetown\")\n",
        "    case \"paraguay\":\n",
        "        print(\"La capital de Paraguay es Asunción\")\n",
        "    case \"panama\":\n",
        "        print(\"La capital de Panamá es Ciudad de Panamá\")\n",
        "    case \"granada\":\n",
        "        print(\"La capital de Granada es Saint George's\")\n",
        "    case \"guyana\":\n",
        "        print(\"La capital de Guyana es Georgetown\")\n",
        "    case \"canada\":\n",
        "        print(\"La capital de Canadá es Ottawa\")\n",
        "    case \"surinam\":\n",
        "        print(\"La capital de Surinam es Paramaribo\")\n",
        "    case \"brasil\":\n",
        "        print(\"La capital de Brasil es Brasilia\")\n",
        "    case \"colombia\":\n",
        "        print(\"La capital de Colombia es Bogotá\")\n",
        "    case \"san vicente y las granadinas\":\n",
        "        print(\"La capital de San Vicente y las Granadinas es Kingstown\")\n",
        "    case \"republica dominicana\":\n",
        "        print(\"La capital de República Dominicana es Santo Domingo\")\n",
        "    case \"haiti\":\n",
        "        print(\"La capital de Haití es Puerto Príncipe\")\n",
        "    case \"nicaragua\":\n",
        "        print(\"La capital de Nicaragua es Managua\")\n",
        "    case \"chile\":\n",
        "        print(\"La capital de Chile es Santiago\")\n",
        "    case \"san cristobal y nieves\":\n",
        "        print(\"La capital de San Cristóbal y Nieves es Basseterre\")\n",
        "    case \"uruguay\":\n",
        "        print(\"La capital de Uruguay es Montevideo\")\n",
        "    case \"dominica\":\n",
        "        print(\"La capital de Dominica es Roseau\")\n",
        "    case \"el salvador\":\n",
        "        print(\"La capital de El Salvador es San Salvador\")\n",
        "    case \"argentina\":\n",
        "        print(\"La capital de Argentina es Buenos Aires\")\n",
        "    case \"peru\":\n",
        "        print(\"La capital de Perú es Lima\")\n",
        "    case \"honduras\":\n",
        "        print(\"La capital de Honduras es Tegucigalpa\")\n",
        "    case \"trinidad y tobago\":\n",
        "        print(\"La capital de Trinidad y Tobago es Puerto España\")\n",
        "    case \"bahamas\":\n",
        "        print(\"La capital de Bahamas es Nasáu\")\n",
        "    case \"santa lucia\":\n",
        "        print(\"La capital de Santa Lucía es Castries\")\n",
        "    case \"ecuador\":\n",
        "        print(\"La capital de Ecuador es Quito\")\n",
        "    case \"bolivia\":\n",
        "        print(\"La capital de Bolivia es Sucre\")\n",
        "    case \"belice\":\n",
        "        print(\"La capital de Belice es Belmopán\")\n",
        "    case \"estados unidos\":\n",
        "        print(\"La capital de Estados Unidos es Washington D. C.\")\n",
        "    case _:\n",
        "        print(\"País no encontrado\")\n",
        "\n"
      ],
      "metadata": {
        "colab": {
          "base_uri": "https://localhost:8080/"
        },
        "id": "_Oa9vR9enVnd",
        "outputId": "32b4901c-9032-46e2-ae0f-695ac3851afe"
      },
      "execution_count": null,
      "outputs": [
        {
          "output_type": "stream",
          "name": "stdout",
          "text": [
            "Ingrese el nombre de un país de América en minúsculas: colombia\n",
            "La capital de Colombia es Bogotá\n"
          ]
        }
      ]
    },
    {
      "cell_type": "code",
      "source": [],
      "metadata": {
        "id": "b1h2stpXn1EW"
      },
      "execution_count": null,
      "outputs": []
    }
  ]
}